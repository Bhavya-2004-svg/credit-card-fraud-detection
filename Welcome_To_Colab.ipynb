{
  "cells": [
    {
      "cell_type": "markdown",
      "metadata": {
        "id": "view-in-github",
        "colab_type": "text"
      },
      "source": [
        "<a href=\"https://colab.research.google.com/github/Bhavya-2004-svg/credit-card-fraud-detection/blob/main/Welcome_To_Colab.ipynb\" target=\"_parent\"><img src=\"https://colab.research.google.com/assets/colab-badge.svg\" alt=\"Open In Colab\"/></a>"
      ]
    },
    {
      "cell_type": "code",
      "source": [
        "import pandas as pd\n",
        "import numpy as np\n",
        "from sklearn.model_selection import train_test_split\n",
        "from sklearn.ensemble import RandomForestClassifier\n",
        "from sklearn.metrics import classification_report, confusion_matrix\n",
        "from sklearn.preprocessing import StandardScaler\n",
        "\n",
        "# Load the credit card transaction dataset (assumed to be in CSV format)\n",
        "# Replace with the path to your dataset\n",
        "data = pd.read_csv(\"/content/creditcard.csv.zip\")\n",
        "\n",
        "# Display the first few rows of the dataset\n",
        "print(data.head())\n",
        "\n",
        "# Assuming the dataset has the following columns:\n",
        "# 'TransactionID', 'CardID', 'Amount', 'Time', 'Label' (Label: 0 = non-fraud, 1 = fraud)\n",
        "if 'CardID' not in data.columns:\n",
        "    # Replace 'ExistingCardIDColumn' with the actual column name if it exists\n",
        "    # If no such column exists and you want to create a dummy CardID:\n",
        "    data['CardID'] = 1  # Assigning a dummy value 1 to all transactions\n",
        "    print(\"Created 'CardID' column with dummy values.\")\n",
        "# Sort by CardID and Time to create the 'TimeSinceLastTransaction' feature\n",
        "data = data.sort_values (by=['CardID', 'Time'])\n",
        "\n",
        "# Calculate time since last transaction for each card\n",
        "data['TimeSinceLastTransaction'] = data.groupby('CardID')['Time'].diff().fillna(0)\n",
        "\n",
        "# Create a new label based on TimeSinceLastTransaction\n",
        "# Define a threshold for \"suspicious\" behavior (for example, transactions within 10 minutes)\n",
        "threshold_time = 10  # Set your threshold in minutes (e.g., 10 minutes)\n",
        "\n",
        "# Create the new label: 1 if TimeSinceLastTransaction is less than threshold, otherwise 0\n",
        "data['NewLabel'] = (data['TimeSinceLastTransaction'] < threshold_time).astype(int)\n",
        "\n",
        "# You can keep the original label as well or replace it with the new one, depending on your use case\n",
        "print(\"Unique values in the new label:\")\n",
        "print(data['NewLabel'].value_counts())\n",
        "\n",
        "# Select features and the new target (NewLabel)\n",
        "features = ['Amount', 'TimeSinceLastTransaction']\n",
        "X = data[features]\n",
        "y = data['NewLabel']\n",
        "\n",
        "# Standardize the features (important for distance-based models or if features vary in scale)\n",
        "scaler = StandardScaler()\n",
        "X_scaled = scaler.fit_transform(X)\n",
        "\n",
        "# Split the dataset into training and testing sets\n",
        "X_train, X_test, y_train, y_test = train_test_split(X_scaled, y, test_size=0.3, random_state=42)\n",
        "\n",
        "# Initialize and train a Random Forest classifier\n",
        "clf = RandomForestClassifier(n_estimators=100, random_state=42)\n",
        "clf.fit(X_train, y_train)\n",
        "\n",
        "# Make predictions\n",
        "y_pred = clf.predict(X_test)\n",
        "\n",
        "# Evaluate the model's performance\n",
        "print(\"Classification Report:\")\n",
        "print(classification_report(y_test, y_pred))\n",
        "\n",
        "print(\"Confusion Matrix:\")\n",
        "print(confusion_matrix(y_test, y_pred))\n"
      ],
      "metadata": {
        "id": "48f3sUAx2D7c",
        "outputId": "0563fb7f-0ccc-4217-faa5-b01f3d586e55",
        "colab": {
          "base_uri": "https://localhost:8080/"
        }
      },
      "execution_count": 4,
      "outputs": [
        {
          "output_type": "stream",
          "name": "stdout",
          "text": [
            "   Time        V1        V2        V3        V4        V5        V6        V7  \\\n",
            "0   0.0 -1.359807 -0.072781  2.536347  1.378155 -0.338321  0.462388  0.239599   \n",
            "1   0.0  1.191857  0.266151  0.166480  0.448154  0.060018 -0.082361 -0.078803   \n",
            "2   1.0 -1.358354 -1.340163  1.773209  0.379780 -0.503198  1.800499  0.791461   \n",
            "3   1.0 -0.966272 -0.185226  1.792993 -0.863291 -0.010309  1.247203  0.237609   \n",
            "4   2.0 -1.158233  0.877737  1.548718  0.403034 -0.407193  0.095921  0.592941   \n",
            "\n",
            "         V8        V9  ...       V21       V22       V23       V24       V25  \\\n",
            "0  0.098698  0.363787  ... -0.018307  0.277838 -0.110474  0.066928  0.128539   \n",
            "1  0.085102 -0.255425  ... -0.225775 -0.638672  0.101288 -0.339846  0.167170   \n",
            "2  0.247676 -1.514654  ...  0.247998  0.771679  0.909412 -0.689281 -0.327642   \n",
            "3  0.377436 -1.387024  ... -0.108300  0.005274 -0.190321 -1.175575  0.647376   \n",
            "4 -0.270533  0.817739  ... -0.009431  0.798278 -0.137458  0.141267 -0.206010   \n",
            "\n",
            "        V26       V27       V28  Amount  Class  \n",
            "0 -0.189115  0.133558 -0.021053  149.62      0  \n",
            "1  0.125895 -0.008983  0.014724    2.69      0  \n",
            "2 -0.139097 -0.055353 -0.059752  378.66      0  \n",
            "3 -0.221929  0.062723  0.061458  123.50      0  \n",
            "4  0.502292  0.219422  0.215153   69.99      0  \n",
            "\n",
            "[5 rows x 31 columns]\n",
            "Created 'CardID' column with dummy values.\n",
            "Unique values in the new label:\n",
            "NewLabel\n",
            "1    284316\n",
            "0       491\n",
            "Name: count, dtype: int64\n",
            "Classification Report:\n",
            "              precision    recall  f1-score   support\n",
            "\n",
            "           0       1.00      1.00      1.00       164\n",
            "           1       1.00      1.00      1.00     85279\n",
            "\n",
            "    accuracy                           1.00     85443\n",
            "   macro avg       1.00      1.00      1.00     85443\n",
            "weighted avg       1.00      1.00      1.00     85443\n",
            "\n",
            "Confusion Matrix:\n",
            "[[  164     0]\n",
            " [    0 85279]]\n"
          ]
        }
      ]
    }
  ],
  "metadata": {
    "colab": {
      "name": "Welcome To Colab",
      "provenance": [],
      "include_colab_link": true
    },
    "kernelspec": {
      "display_name": "Python 3",
      "name": "python3"
    }
  },
  "nbformat": 4,
  "nbformat_minor": 0
}